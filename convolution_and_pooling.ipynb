{
  "cells": [
    {
      "cell_type": "code",
      "execution_count": null,
      "metadata": {
        "id": "n2_hUewhmyTm"
      },
      "outputs": [],
      "source": [
        "### Import libraries\n",
        "\n",
        "import os\n",
        "import PIL\n",
        "import requests\n",
        "import math\n",
        "\n",
        "import numpy as np\n",
        "import matplotlib.pyplot as plt"
      ]
    },
    {
      "cell_type": "code",
      "execution_count": null,
      "metadata": {
        "id": "rnfkQvNYxHCM"
      },
      "outputs": [],
      "source": [
        "### Download example image\n",
        "\n",
        "# Image location and path\n",
        "url = \"https://github.com/ShawnHymel/computer-vision-with-embedded-machine-learning/raw/master/2.1.4%20-%20Project%20-%20Convolution%20and%20Pooling/resistor.png\"\n",
        "img_path = os.path.join(\"/content\", \"resistor.png\")\n",
        "\n",
        "# Download image\n",
        "resp = requests.get(url)\n",
        "\n",
        "# Write image to file\n",
        "with open(img_path, 'wb') as f:\n",
        "  f.write(resp.content)"
      ]
    },
    {
      "cell_type": "code",
      "execution_count": null,
      "metadata": {
        "id": "dBV7wfOky1XY"
      },
      "outputs": [],
      "source": [
        "### Open and view image\n",
        "\n",
        "# Use PIL to open the image and convert it to grayscale\n",
        "img = PIL.Image.open(img_path)\n",
        "img = img.convert('L')\n",
        "\n",
        "# Convert image to Numpy array\n",
        "img = np.asarray(img)\n",
        "\n",
        "# Show dimensions and view array as image\n",
        "print(img.shape)\n",
        "plt.imshow(img, cmap='gray', vmin=0, vmax=255)"
      ]
    },
    {
      "cell_type": "code",
      "execution_count": null,
      "metadata": {
        "id": "0FDjgm5pzZOg"
      },
      "outputs": [],
      "source": [
        "### Convolution function\n",
        "\n",
        "def convolve(img, kernel, stride):\n",
        "\n",
        "  # Compute dimensions of output image\n",
        "  out_height = math.floor((img.shape[0] - kernel.shape[0]) / stride) + 1\n",
        "  out_width = math.floor((img.shape[1] - kernel.shape[1]) / stride) + 1\n",
        "  \n",
        "  # Create blank output image\n",
        "  convolved_img = np.zeros((out_height, out_width))\n",
        "\n",
        "  \n",
        "  # Loop through each pixel in the output array. Note that this is not the most efficient way of\n",
        "  # doing convolution, but it provides some insights into what's going on.\n",
        "  for i in np.arange(0, out_height):\n",
        "    for j in np.arange(0, out_width):\n",
        "\n",
        "      # Set a temporary variable to 0\n",
        "      accumulator = 0\n",
        "\n",
        "      # Do element-wise multiplication and sum the result over the window/kernel\n",
        "      for m in np.arange(0, kernel.shape[0]):\n",
        "        for n in np.arange(0, kernel.shape[1]):\n",
        "          accumulator += img[(stride * i) + m, (stride * j) + n] * kernel[m, n]\n",
        "\n",
        "      # Set output image pixel to accumulator value\n",
        "      convolved_img[i, j] = accumulator\n",
        "\n",
        "  # Round all elements, convert to integers, and clamp to values between 0 and 255\n",
        "  convolved_img = np.rint(convolved_img).astype(int)\n",
        "  convolved_img = np.clip(convolved_img, 0, 255)\n",
        "\n",
        "  return convolved_img"
      ]
    },
    {
      "cell_type": "code",
      "execution_count": null,
      "metadata": {
        "id": "IeLJ2y9h0bVH"
      },
      "outputs": [],
      "source": [
        "### Test 1: Gaussian blur filter\n",
        "\n",
        "# Define kernel\n",
        "kernel = np.array([[1/16, 2/16, 1/16],\n",
        "                   [2/16, 4/16, 2/16],\n",
        "                   [1/16, 2/16, 1/16]])\n",
        "\n",
        "# Call your convolve function (with a stride of 1)\n",
        "out_img = convolve(img, kernel, 1)\n",
        "\n",
        "# Show dimensions and view array as image\n",
        "print(out_img.shape)\n",
        "plt.imshow(out_img, cmap='gray', vmin=0, vmax=255)"
      ]
    },
    {
      "cell_type": "code",
      "execution_count": null,
      "metadata": {
        "id": "OU_dTpq229_D"
      },
      "outputs": [],
      "source": [
        "### Test 2: Edge detection\n",
        "\n",
        "# Define kernel\n",
        "kernel = np.array([[-1, -1, -1],\n",
        "                   [-1, 8, -1],\n",
        "                   [-1, -1, -1]])\n",
        "\n",
        "# Call your convolve function (with a stride of 1)\n",
        "out_img = convolve(img, kernel, 1)\n",
        "\n",
        "# Show dimensions and view array as image\n",
        "print(out_img.shape)\n",
        "plt.imshow(out_img, cmap='gray', vmin=0, vmax=255)"
      ]
    },
    {
      "cell_type": "code",
      "execution_count": null,
      "metadata": {
        "id": "NJcZaIPs3Ksh"
      },
      "outputs": [],
      "source": [
        "### Test 3: Sharpen with stride > 1\n",
        "\n",
        "# Define kernel\n",
        "kernel = np.array([[0, -1, 0],\n",
        "                   [-1, 5, -1],\n",
        "                   [0, -1, 0]])\n",
        "\n",
        "# Call your convolve function (with a stride of 2)\n",
        "out_img = convolve(img, kernel, 2)\n",
        "\n",
        "# Show dimensions and view array as image\n",
        "print(out_img.shape)\n",
        "plt.imshow(out_img, cmap='gray', vmin=0, vmax=255)"
      ]
    },
    {
      "cell_type": "code",
      "execution_count": null,
      "metadata": {
        "id": "yBeCY9Bd4o_b"
      },
      "outputs": [],
      "source": [
        "### Max pooling function\n",
        "\n",
        "def maxpooling(img, pool_height, pool_width):\n",
        "\n",
        "  # Set stride amounts\n",
        "  stride_y = pool_height\n",
        "  stride_x = pool_width\n",
        "\n",
        "  # Compute dimensions of output image\n",
        "  out_height = math.floor((img.shape[0] - pool_height) / stride_y) + 1\n",
        "  out_width = math.floor((img.shape[1] - pool_width) / stride_x) + 1\n",
        "  \n",
        "  # Create blank output image\n",
        "  pooled_img = np.zeros((out_height, out_width))\n",
        "\n",
        "\n",
        "  # Loop through each pixel in the output array. Note that this is not the most efficient way of\n",
        "  # doing convolution, but it provides some insights into what's going on.\n",
        "  for i in np.arange(0, out_height):\n",
        "    for j in np.arange(0, out_width):\n",
        "\n",
        "      # Set output to the value of the first element in the window\n",
        "      out_val = img[(stride_y * i), (stride_x * j)]\n",
        "\n",
        "      # Look through each element in the window to find the max value\n",
        "      for m in np.arange(0, pool_height):\n",
        "        for n in np.arange(0, pool_width):\n",
        "          out_val = max(out_val, img[(stride_y * i) + m, (stride_x * j) + n])\n",
        "\n",
        "      # Set element in output array to max value\n",
        "      pooled_img[i, j] = out_val\n",
        "\n",
        "  # Round all elements, convert to integers, and clamp to values between 0 and 255\n",
        "  pooled_img = np.rint(pooled_img).astype(int)\n",
        "  pooled_img = np.clip(pooled_img, 0, 255)\n",
        "\n",
        "  return pooled_img"
      ]
    },
    {
      "cell_type": "code",
      "execution_count": null,
      "metadata": {
        "id": "4M-Q5Wzl_LK4"
      },
      "outputs": [],
      "source": [
        "### Max pool original image with pool size of (2, 3)\n",
        "\n",
        "# Call your pooling function (with pool_size=(2, 3))\n",
        "out_img = maxpooling(img, 2, 3)\n",
        "\n",
        "# Show dimensions and view array as image\n",
        "print(out_img.shape)\n",
        "plt.imshow(out_img, cmap='gray', vmin=0, vmax=255)"
      ]
    },
    {
      "cell_type": "code",
      "execution_count": null,
      "metadata": {
        "id": "-Wm4R5MS_obx"
      },
      "outputs": [],
      "source": [
        "### Detect edges and pool\n",
        "\n",
        "# Define kernel\n",
        "kernel = np.array([[-1, -1, -1],\n",
        "                   [-1, 8, -1],\n",
        "                   [-1, -1, -1]])\n",
        "\n",
        "# Call your convolve function (with a stride of 1)\n",
        "convolved_img = convolve(img, kernel, 1)\n",
        "\n",
        "# Call your pooling function (with pool_size=(2, 2))\n",
        "out_img = maxpooling(convolved_img, 2, 2)\n",
        "\n",
        "# Show dimensions and view array as image\n",
        "print(out_img.shape)\n",
        "plt.imshow(out_img, cmap='gray', vmin=0, vmax=255)"
      ]
    },
    {
      "cell_type": "code",
      "execution_count": null,
      "metadata": {
        "id": "k2rg60rGAXOS"
      },
      "outputs": [],
      "source": []
    }
  ],
  "metadata": {
    "colab": {
      "collapsed_sections": [],
      "name": "solution-convolution-and-pooling.ipynb",
      "provenance": []
    },
    "kernelspec": {
      "display_name": "Python 3",
      "name": "python3"
    },
    "language_info": {
      "name": "python"
    }
  },
  "nbformat": 4,
  "nbformat_minor": 0
}
