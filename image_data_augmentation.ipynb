{
 "nbformat": 4,
 "nbformat_minor": 0,
 "metadata": {
  "colab": {
   "name": "solution_image_data_augmentation.ipynb",
   "provenance": [],
   "collapsed_sections": []
  },
  "kernelspec": {
   "name": "python3",
   "display_name": "Python 3 (ipykernel)",
   "language": "python"
  },
  "language_info": {
   "name": "python"
  }
 },
 "cells": [
  {
   "cell_type": "code",
   "metadata": {
    "id": "9RTimcB-ZoIT",
    "ExecuteTime": {
     "end_time": "2024-07-31T13:12:54.027362Z",
     "start_time": "2024-07-31T13:12:53.231312Z"
    }
   },
   "source": [
    "import numpy as np\n",
    "import matplotlib.pyplot as plt\n",
    "import random\n",
    "import os\n",
    "import PIL\n",
    "\n",
    "import skimage.transform\n",
    "import skimage.util"
   ],
   "outputs": [],
   "execution_count": 1
  },
  {
   "cell_type": "code",
   "metadata": {
    "id": "8zJCNZmEaCCN",
    "ExecuteTime": {
     "end_time": "2024-07-31T13:12:54.031404Z",
     "start_time": "2024-07-31T13:12:54.028372Z"
    }
   },
   "source": [
    "### Settings\n",
    "\n",
    "# Location of dataset and output folder\n",
    "DATASET_PATH = \"/content/dataset\"\n",
    "OUT_PATH = \"/content/output\"\n",
    "OUT_ZIP = \"augmented_dataset.zip\"\n",
    "\n",
    "# File format to use for new dataset\n",
    "IMG_EXT = \".png\"\n",
    "\n",
    "# You are welcome to change the seed to get different augmentation effects\n",
    "SEED = 42\n",
    "random.seed(SEED)"
   ],
   "outputs": [],
   "execution_count": 2
  },
  {
   "cell_type": "code",
   "metadata": {
    "id": "siLr8t4-qR9K",
    "ExecuteTime": {
     "end_time": "2024-07-31T13:12:54.430153Z",
     "start_time": "2024-07-31T13:12:54.032416Z"
    }
   },
   "source": [
    "### Create output directory\n",
    "try:\n",
    "  os.makedirs(OUT_PATH)\n",
    "except FileExistsError:\n",
    "  print(\"WARNING: Output directory already exists. Check to make sure it is empty.\")"
   ],
   "outputs": [],
   "execution_count": 3
  },
  {
   "cell_type": "markdown",
   "metadata": {
    "id": "KAZYWLFeB9vR"
   },
   "source": [
    "## Transform Functions\n",
    "\n",
    "Create one or more functions that transform an input image."
   ]
  },
  {
   "cell_type": "code",
   "metadata": {
    "id": "kxh8f4JXgnTa",
    "ExecuteTime": {
     "end_time": "2024-07-31T13:12:54.434355Z",
     "start_time": "2024-07-31T13:12:54.431180Z"
    }
   },
   "source": [
    "### Example: Function to create 3 new flipped images of the input\n",
    "def create_flipped(img):\n",
    "\n",
    "  # Create a list of flipped images\n",
    "  flipped = []\n",
    "  flipped.append(np.fliplr(img))\n",
    "  flipped.append(np.flipud(img))\n",
    "  flipped.append(np.flipud(np.fliplr(img)))\n",
    "\n",
    "  return flipped"
   ],
   "outputs": [],
   "execution_count": 4
  },
  {
   "cell_type": "code",
   "metadata": {
    "id": "YAIqA5xdtt_6",
    "ExecuteTime": {
     "end_time": "2024-07-31T13:12:54.439158Z",
     "start_time": "2024-07-31T13:12:54.436360Z"
    }
   },
   "source": [
    "# >>> ENTER YOUR CODE HERE <<<\n",
    "# Create one or more functions that create transforms of your images"
   ],
   "outputs": [],
   "execution_count": 5
  },
  {
   "cell_type": "code",
   "metadata": {
    "id": "96_3m50XhDww",
    "ExecuteTime": {
     "end_time": "2024-07-31T13:12:54.444373Z",
     "start_time": "2024-07-31T13:12:54.440171Z"
    }
   },
   "source": [
    "### Function to create new rotated images of the input\n",
    "def create_rotated(img, rotations):\n",
    "\n",
    "  # Create list of rotated images (keep 8-bit values)\n",
    "  rotated = []\n",
    "  for rot in rotations:\n",
    "    img_rot = skimage.transform.rotate(img, angle=rot, mode='edge', preserve_range=True)\n",
    "    img_rot = img_rot.astype(np.uint8)\n",
    "    rotated.append(img_rot)\n",
    "\n",
    "  return rotated"
   ],
   "outputs": [],
   "execution_count": 6
  },
  {
   "cell_type": "code",
   "metadata": {
    "id": "GNmLBQtmg9rT",
    "ExecuteTime": {
     "end_time": "2024-07-31T13:12:54.450313Z",
     "start_time": "2024-07-31T13:12:54.445383Z"
    }
   },
   "source": [
    "### Function to create random scale/crop (zoom) images\n",
    "def create_random_zooms(img, scale_factor, num_crops):\n",
    "\n",
    "  # Get height and width of original image\n",
    "  height = img.shape[0]\n",
    "  width = img.shape[1]\n",
    "\n",
    "  # Create scaled images (e.g. make the image bigger) and keep 8-bit values\n",
    "  img_scaled = skimage.transform.rescale(img, \n",
    "                                        scale=scale_factor, \n",
    "                                        anti_aliasing=True, \n",
    "                                        multichannel=True,\n",
    "                                        preserve_range=True)\n",
    "  img_scaled = img_scaled.astype(np.uint8)\n",
    "\n",
    "  # Get height and width of scaled image\n",
    "  s_h = img_scaled.shape[0]\n",
    "  s_w = img_scaled.shape[1]\n",
    "\n",
    "  # Create list of random zooms\n",
    "  zooms = []\n",
    "  for i in range(num_crops):\n",
    "    \n",
    "    # Randomly choose start of crop point\n",
    "    crop_y = round(random.random() * (s_h - height))\n",
    "    crop_x = round(random.random() * (s_w - width))\n",
    "\n",
    "    # Crop scaled image\n",
    "    zoom = img_scaled[crop_y:(crop_y + height), crop_x:(crop_x + width), :]\n",
    "\n",
    "    # Append zoomed image to list\n",
    "    zooms.append(zoom)\n",
    "\n",
    "  return zooms"
   ],
   "outputs": [],
   "execution_count": 7
  },
  {
   "cell_type": "code",
   "metadata": {
    "id": "b55wy1q69-xY",
    "ExecuteTime": {
     "end_time": "2024-07-31T13:12:54.455521Z",
     "start_time": "2024-07-31T13:12:54.451317Z"
    }
   },
   "source": [
    "### Function to create a random set of translated images (no more than 1/4 of width or height away)\n",
    "def create_random_translations(img, num_translations):\n",
    "\n",
    "  # Get height and width of original image\n",
    "  height = img.shape[0]\n",
    "  width = img.shape[1]\n",
    "\n",
    "  # Create list of random translations\n",
    "  translations = []\n",
    "  for i in range(num_translations):\n",
    "  \n",
    "    # Choose random amount to translate (up to 1/4 image width, height) in either direction\n",
    "    tr_y = round((0.5 - random.random()) * (height / 2))\n",
    "    tr_x = round((0.5 - random.random()) * (width / 2))\n",
    "\n",
    "    # Perform translation to create new image\n",
    "    translation = skimage.transform.AffineTransform(translation=(tr_y, tr_x))\n",
    "    img_tr = skimage.transform.warp(img, translation, mode='edge', preserve_range=True)\n",
    "    img_tr = img_tr.astype(np.uint8)\n",
    "\n",
    "    # Append translated image to list\n",
    "    translations.append(img_tr)\n",
    "\n",
    "  return translations"
   ],
   "outputs": [],
   "execution_count": 8
  },
  {
   "cell_type": "code",
   "metadata": {
    "id": "Ad0IR6Pc_n9b",
    "ExecuteTime": {
     "end_time": "2024-07-31T13:12:54.460486Z",
     "start_time": "2024-07-31T13:12:54.456526Z"
    }
   },
   "source": [
    "### Function to add random noise to images\n",
    "def create_noisy(img, types, seed=None):\n",
    "\n",
    "  # Add noise of different types\n",
    "  noisy_imgs = []\n",
    "  for t in types:\n",
    "    noise = skimage.util.random_noise(img, mode=t, seed=seed)\n",
    "    noise = (noise * 255).astype(np.uint8)\n",
    "    noisy_imgs.append(noise)\n",
    "\n",
    "  return noisy_imgs"
   ],
   "outputs": [],
   "execution_count": 9
  },
  {
   "cell_type": "markdown",
   "metadata": {
    "id": "vaJR7hAOCEID"
   },
   "source": [
    "## Perform Transforms\n",
    "\n",
    "Call your functions to create a set of augmented data."
   ]
  },
  {
   "cell_type": "code",
   "metadata": {
    "id": "J9ryKQeQaOKE",
    "ExecuteTime": {
     "end_time": "2024-07-31T13:12:54.466315Z",
     "start_time": "2024-07-31T13:12:54.461494Z"
    }
   },
   "source": [
    "### Function to open image and create a list of new transforms\n",
    "# NOTE: You will need to call your functions here!\n",
    "def create_transforms(file_path):\n",
    "\n",
    "  # Open the image\n",
    "  img = PIL.Image.open(file_path)\n",
    "\n",
    "  # Convert the image to a Numpy array (keep all color channels)\n",
    "  img_array = np.asarray(img)\n",
    "\n",
    "  # Add original image to front of list\n",
    "  img_tfs = []\n",
    "  img_tfs.append([img_array])\n",
    "\n",
    "  # Perform transforms (call your functions)\n",
    "  img_tfs.append(create_flipped(img_array))\n",
    "  # >>> ENTER YOUR CODE HERE <<<\n",
    "  # e.g. img_tfs.append(create_translations(img_array, 2))\n",
    "  img_tfs.append(create_flipped(img_array))\n",
    "  img_tfs.append(create_rotated(img_array, [45, 90, 135]))\n",
    "  img_tfs.append(create_random_zooms(img_array, 1.3, 2))\n",
    "  img_tfs.append(create_random_translations(img_array, 2))\n",
    "  img_tfs.append(create_noisy(img_array, ['gaussian', 's&p'], SEED))\n",
    "\n",
    "  # Flatten list of lists (to create one long list of images)\n",
    "  img_tfs = [img for img_list in img_tfs for img in img_list]\n",
    "\n",
    "  return img_tfs"
   ],
   "outputs": [],
   "execution_count": 10
  },
  {
   "cell_type": "code",
   "metadata": {
    "id": "y3ZEsAGUAvUS",
    "ExecuteTime": {
     "end_time": "2024-07-31T13:12:54.727912Z",
     "start_time": "2024-07-31T13:12:54.467321Z"
    }
   },
   "source": [
    "### Load all images, create transforms, and save in output directory\n",
    "\n",
    "# Find the directories in the dataset folder (skip the Jupyter Notebook checkpoints hidden folder)\n",
    "for label in os.listdir(DATASET_PATH):\n",
    "  class_dir = os.path.join(DATASET_PATH, label)\n",
    "  if os.path.isdir(class_dir) and label != \".ipynb_checkpoints\":\n",
    "\n",
    "    # Create output directory\n",
    "    out_path = os.path.join(OUT_PATH, label)\n",
    "    os.makedirs(out_path, exist_ok=True)\n",
    "\n",
    "    # Go through each image in the subfolder\n",
    "    for i, filename in enumerate(os.listdir(class_dir)):\n",
    "\n",
    "      # Skip the Jupyter Notebook checkpoints folder that sometimes gets added\n",
    "      if filename != \".ipynb_checkpoints\":\n",
    "\n",
    "        # Get the root of the filename before the extension\n",
    "        file_root = os.path.splitext(filename)[0]\n",
    "\n",
    "        # Do all transforms for that one image\n",
    "        file_path = os.path.join(DATASET_PATH, label, filename)\n",
    "        img_tfs = create_transforms(file_path)\n",
    "\n",
    "        # Save images to new files in output directory\n",
    "        for i, img in enumerate(img_tfs):\n",
    "\n",
    "          # Create a Pillow image from the Numpy array\n",
    "          img_pil = PIL.Image.fromarray(img)\n",
    "\n",
    "          # Construct filename (<orignal>_<transform_num>.<EXT>)\n",
    "          out_file_path = os.path.join(out_path, file_root + \"_\" + str(i) + IMG_EXT)\n",
    "\n",
    "          # Convert Numpy array to image and save as a file\n",
    "          img_pil = PIL.Image.fromarray(img)\n",
    "          img_pil.save(out_file_path)"
   ],
   "outputs": [
    {
     "ename": "FileNotFoundError",
     "evalue": "[WinError 3] The system cannot find the path specified: '/content/dataset'",
     "output_type": "error",
     "traceback": [
      "\u001B[1;31m---------------------------------------------------------------------------\u001B[0m",
      "\u001B[1;31mFileNotFoundError\u001B[0m                         Traceback (most recent call last)",
      "Cell \u001B[1;32mIn[11], line 4\u001B[0m\n\u001B[0;32m      1\u001B[0m \u001B[38;5;66;03m### Load all images, create transforms, and save in output directory\u001B[39;00m\n\u001B[0;32m      2\u001B[0m \n\u001B[0;32m      3\u001B[0m \u001B[38;5;66;03m# Find the directories in the dataset folder (skip the Jupyter Notebook checkpoints hidden folder)\u001B[39;00m\n\u001B[1;32m----> 4\u001B[0m \u001B[38;5;28;01mfor\u001B[39;00m label \u001B[38;5;129;01min\u001B[39;00m \u001B[43mos\u001B[49m\u001B[38;5;241;43m.\u001B[39;49m\u001B[43mlistdir\u001B[49m\u001B[43m(\u001B[49m\u001B[43mDATASET_PATH\u001B[49m\u001B[43m)\u001B[49m:\n\u001B[0;32m      5\u001B[0m   class_dir \u001B[38;5;241m=\u001B[39m os\u001B[38;5;241m.\u001B[39mpath\u001B[38;5;241m.\u001B[39mjoin(DATASET_PATH, label)\n\u001B[0;32m      6\u001B[0m   \u001B[38;5;28;01mif\u001B[39;00m os\u001B[38;5;241m.\u001B[39mpath\u001B[38;5;241m.\u001B[39misdir(class_dir) \u001B[38;5;129;01mand\u001B[39;00m label \u001B[38;5;241m!=\u001B[39m \u001B[38;5;124m\"\u001B[39m\u001B[38;5;124m.ipynb_checkpoints\u001B[39m\u001B[38;5;124m\"\u001B[39m:\n\u001B[0;32m      7\u001B[0m \n\u001B[0;32m      8\u001B[0m     \u001B[38;5;66;03m# Create output directory\u001B[39;00m\n",
      "\u001B[1;31mFileNotFoundError\u001B[0m: [WinError 3] The system cannot find the path specified: '/content/dataset'"
     ]
    }
   ],
   "execution_count": 11
  },
  {
   "cell_type": "code",
   "metadata": {
    "id": "wWwxvzKxDJ18"
   },
   "source": [
    "### Zip our new dataset (use '!' to call Linux commands)\n",
    "!zip -r -q \"{OUT_ZIP}\" \"{OUT_PATH}\""
   ],
   "outputs": [],
   "execution_count": null
  }
 ]
}
